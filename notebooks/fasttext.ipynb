{
 "cells": [
  {
   "cell_type": "code",
   "execution_count": 1,
   "metadata": {},
   "outputs": [
    {
     "name": "stdout",
     "output_type": "stream",
     "text": [
      "3.6.5 (default, May  3 2018, 10:08:28) \n",
      "[GCC 5.4.0 20160609]\n",
      "/home/viktor/dev/recept-scanning/notebooks\n",
      "['',\n",
      " '/home/viktor/venvs/receipt/lib/python36.zip',\n",
      " '/home/viktor/venvs/receipt/lib/python3.6',\n",
      " '/home/viktor/venvs/receipt/lib/python3.6/lib-dynload',\n",
      " '/usr/lib/python3.6',\n",
      " '/home/viktor/venvs/receipt/lib/python3.6/site-packages',\n",
      " '/home/viktor/venvs/receipt/lib/python3.6/site-packages/IPython/extensions',\n",
      " '/home/viktor/.ipython',\n",
      " '/home/viktor/dev/recept-scanning']\n"
     ]
    }
   ],
   "source": [
    "import sys\n",
    "import os\n",
    "import json\n",
    "\n",
    "from pprint import pprint\n",
    "\n",
    "\n",
    "nb_dir = os.path.split(os.getcwd())[0]\n",
    "if nb_dir not in sys.path:\n",
    "    sys.path.append(nb_dir)\n",
    "\n",
    "    \n",
    "project_dir = os.path.join(os.getcwd(), '..')\n",
    "print(sys.version)\n",
    "print(os.getcwd())\n",
    "\n",
    "pprint(sys.path)\n"
   ]
  },
  {
   "cell_type": "code",
   "execution_count": 2,
   "metadata": {},
   "outputs": [
    {
     "name": "stdout",
     "output_type": "stream",
     "text": [
      "READING RECEIPT!!!\n",
      "[(1, 54), (3, 29), (5, 29)]\n",
      "READING RECEIPT!!!\n",
      "[(1, 86), (3, 51), (5, 51)]\n",
      "READING RECEIPT!!!\n",
      "[(1, 114), (3, 54), (5, 39), (7, 61)]\n",
      "READING RECEIPT!!!\n",
      "[(1, 213), (3, 114), (5, 81), (7, 74), (9, 134)]\n"
     ]
    }
   ],
   "source": [
    "import json\n",
    "from recread.receipt.core import read_receipt_from_google_ocr_json\n",
    "\n",
    "RECEIPT_FILE_NAME_KEISER = 'kvittering-keiser.jpg.json'\n",
    "RECEIPT_FILE_NAME_KIWI = 'kvittering-kiwi.jpg.json'\n",
    "RECEIPT_FILE_NAME_IKEA = 'kvittering-ikea.jpg.json'\n",
    "RECEIPT_FILE_NAME_HOLDBART = 'receipt_holdbart.json'\n",
    "\n",
    "with open(os.path.join(project_dir, 'data', 'receipt_responses', RECEIPT_FILE_NAME_KEISER)) as json_file:\n",
    "    json_ocr_keiser = json.load(json_file)\n",
    "with open(os.path.join(project_dir, 'data', 'receipt_responses', RECEIPT_FILE_NAME_KIWI)) as json_file:\n",
    "    json_ocr_kiwi = json.load(json_file)\n",
    "with open(os.path.join(project_dir, 'data', 'receipt_responses', RECEIPT_FILE_NAME_IKEA)) as json_file:\n",
    "    json_ocr_ikea = json.load(json_file)\n",
    "with open(os.path.join(project_dir, 'data', 'receipt_responses', RECEIPT_FILE_NAME_HOLDBART)) as json_file:\n",
    "    json_ocr_holdbart = json.load(json_file)\n",
    "    \n",
    "receipt_keiser = read_receipt_from_google_ocr_json(json_ocr_keiser)\n",
    "receipt_kiwi = read_receipt_from_google_ocr_json(json_ocr_kiwi)\n",
    "receipt_ikea = read_receipt_from_google_ocr_json(json_ocr_ikea)\n",
    "receipt_holdbart = read_receipt_from_google_ocr_json(json_ocr_holdbart)\n"
   ]
  },
  {
   "cell_type": "code",
   "execution_count": 29,
   "metadata": {},
   "outputs": [],
   "source": [
    "import re\n",
    "import random\n",
    "\n",
    "compiled_number_pattern = re.compile(r'\\d')\n",
    "\n",
    "def preprocess_string(string):\n",
    "    return compiled_number_pattern.sub('#', string.lower())\n",
    "\n",
    "def print_predicted_labels(predicted, strings):\n",
    "    for p, s in zip(predicted, strings):\n",
    "        print(p, s)\n",
    "        \n",
    "def write_train_test_files(lines, test_size=.2):\n",
    "    with open(os.path.join(project_dir, 'ft', 'receipt_lines_labeled_tokens.train.txt'), 'w') as train_file:\n",
    "        with open(os.path.join(project_dir, 'ft', 'receipt_lines_labeled_tokens.test.txt'), 'w') as test_file:\n",
    "            for line in lines:\n",
    "                if random.random() < test_size:\n",
    "                    test_file.write(line)\n",
    "                else: \n",
    "                    train_file.write(line)\n",
    "                    \n",
    "    "
   ]
  },
  {
   "cell_type": "code",
   "execution_count": 30,
   "metadata": {},
   "outputs": [],
   "source": [
    "import json\n",
    "\n",
    "with open(os.path.join(project_dir, 'ft', 'receipt_lines_labeled_tokens_corrected.txt'), 'r') as in_file:\n",
    "    write_train_test_files(in_file.readlines(), test_size=.4)\n",
    "    "
   ]
  },
  {
   "cell_type": "code",
   "execution_count": 4,
   "metadata": {},
   "outputs": [],
   "source": [
    "from recread.parsing.lines import get_line_type\n",
    "from recread.parsing.enums import line_types\n",
    "\n",
    "\n",
    "with open(os.path.join(project_dir, 'ft', 'receipt_lines_labeled_tokens.txt'), 'w') as outfile:\n",
    "    for line_type, line in [(x.type, ' '.join(x.token_line)) for x in receipt_holdbart.receipt_lines + receipt_ikea.receipt_lines + receipt_keiser.receipt_lines + receipt_kiwi.receipt_lines]:\n",
    "        outfile.write(f'__label__{True if line_type == line_types.PRODUCT else False} {preprocess_string(line)}{os.linesep}')\n",
    "outfile.close()"
   ]
  },
  {
   "cell_type": "code",
   "execution_count": 24,
   "metadata": {},
   "outputs": [],
   "source": [
    "import fasttext\n",
    "\n",
    "classifier = fasttext.supervised(\n",
    "    os.path.join(project_dir, 'ft', 'receipt_lines_labeled_tokens_corrected.txt'), \n",
    "    os.path.join(project_dir, 'ft', 'model'), \n",
    "    epoch=100,\n",
    "    bucket=100000,\n",
    "    word_ngrams=3,\n",
    "    maxn=5,\n",
    ")\n"
   ]
  },
  {
   "cell_type": "code",
   "execution_count": 25,
   "metadata": {},
   "outputs": [
    {
     "name": "stdout",
     "output_type": "stream",
     "text": [
      "[('True', 0.974609)] lime ## , ##\n",
      "[('False', 0.998047)] huriye\n",
      "[('False', 0.662109)] # , ### kg x kr ## , ##\n",
      "[('True', 0.970703)] vill blåbær m / mørk sjokolade # ## , ##\n",
      "[('True', 0.921875)] vill blåbær m / mørk sjokolade ## , ##\n",
      "[('True', 0.966797)] # tinemelkhel it ## , ##\n",
      "[('False', 0.990234)] # , ### kg x ## , ## / kg\n",
      "[('False', 1.0)] anus\n",
      "[('True', 0.626953)] ciabatta mini #x##g eld ## % ## , ##\n",
      "[('False', 0.820312)] penis ### , ##\n"
     ]
    }
   ],
   "source": [
    "strings = [x.lower() for x in [\n",
    "    'Lime16,87', \n",
    "    'Huriye', \n",
    "    '0,270kgxkr83,00', \n",
    "    'VillBlåbærM/MørkSjokolade114,90', \n",
    "    'VillBlåbærM/MørkSjokolade14,90', \n",
    "    '1TinemelkhelIT17,90',\n",
    "    '0,338kgX49,90/kg',\n",
    "    'anus',\n",
    "    'penis101,11',\n",
    "]]\n",
    "\n",
    "token_strings = [preprocess_string(x) for x in [\n",
    "    'Lime 16 , 87', \n",
    "    'Huriye', \n",
    "    '0 , 270 kg x kr 83 , 00', \n",
    "    'Vill Blåbær M / Mørk Sjokolade 1 14 , 90', \n",
    "    'Vill Blåbær M / Mørk Sjokolade 14 , 90', \n",
    "    '1 Tinemelkhel IT 17 , 90',\n",
    "    '0 , 338 kg X 49 , 90 / kg',\n",
    "    'anus',\n",
    "    'CIABATTA MINI 4x65G ELD 15 % 12 , 00',\n",
    "    'penis 101 , 11',\n",
    "]]\n",
    "\n",
    "predicted_token_labels = classifier.predict_proba(token_strings)\n",
    "\n",
    "\n",
    "print_predicted_labels(predicted_token_labels, token_strings)"
   ]
  },
  {
   "cell_type": "code",
   "execution_count": 50,
   "metadata": {},
   "outputs": [
    {
     "name": "stdout",
     "output_type": "stream",
     "text": [
      "{'nexamples': 68, 'precision': 0.9558823529411765, 'recall': 0.9558823529411765}\n"
     ]
    }
   ],
   "source": [
    "trained_classifier = fasttext.supervised(\n",
    "    os.path.join(project_dir, 'ft', 'receipt_lines_labeled_tokens.train.txt'), \n",
    "    os.path.join(project_dir, 'ft', 'train_model'), \n",
    "    epoch=50,\n",
    "    bucket=1000,\n",
    "    word_ngrams=3,\n",
    "    lr=.5,\n",
    ")\n",
    "\n",
    "result = trained_classifier.test(os.path.join(project_dir, 'ft', 'receipt_lines_labeled_tokens.test.txt'))\n",
    "pprint(result.__dict__)"
   ]
  },
  {
   "cell_type": "code",
   "execution_count": 52,
   "metadata": {},
   "outputs": [
    {
     "name": "stdout",
     "output_type": "stream",
     "text": [
      "{'products': [{'items_quantity': None,\n",
      "               'name': 'VANNM/KULLSYREF.PRICE',\n",
      "               'price': 4.9,\n",
      "               'quantity': None,\n",
      "               'unit_price': None},\n",
      "              {'items_quantity': None,\n",
      "               'name': '+Pant',\n",
      "               'price': 2.5,\n",
      "               'quantity': None,\n",
      "               'unit_price': None},\n",
      "              {'items_quantity': None,\n",
      "               'name': 'VANNM/KULLSYRELIME',\n",
      "               'price': 4.9,\n",
      "               'quantity': None,\n",
      "               'unit_price': None},\n",
      "              {'items_quantity': None,\n",
      "               'name': '+Pant',\n",
      "               'price': 2.5,\n",
      "               'quantity': None,\n",
      "               'unit_price': None},\n",
      "              {'items_quantity': None,\n",
      "               'name': 'FRYDENLUNDPILSNER',\n",
      "               'price': 28.9,\n",
      "               'quantity': {'unit': 'L', 'value': 0.5},\n",
      "               'unit_price': None},\n",
      "              {'items_quantity': None,\n",
      "               'name': '+Pant',\n",
      "               'price': 2.0,\n",
      "               'quantity': None,\n",
      "               'unit_price': None},\n",
      "              {'items_quantity': None,\n",
      "               'name': 'NYPOTETER',\n",
      "               'price': 16.9,\n",
      "               'quantity': {'unit': 'KG', 'value': 1.5},\n",
      "               'unit_price': None}],\n",
      " 'sum': 62.6}\n"
     ]
    }
   ],
   "source": [
    "pprint(receipt_kiwi.get_json_dict())"
   ]
  }
 ],
 "metadata": {
  "kernelspec": {
   "display_name": "receipt_python3",
   "language": "python",
   "name": "receipt_python3"
  },
  "language_info": {
   "codemirror_mode": {
    "name": "ipython",
    "version": 3
   },
   "file_extension": ".py",
   "mimetype": "text/x-python",
   "name": "python",
   "nbconvert_exporter": "python",
   "pygments_lexer": "ipython3",
   "version": "3.6.5"
  }
 },
 "nbformat": 4,
 "nbformat_minor": 2
}
