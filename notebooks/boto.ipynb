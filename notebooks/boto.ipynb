{
 "cells": [
  {
   "cell_type": "code",
   "execution_count": 2,
   "metadata": {},
   "outputs": [
    {
     "name": "stdout",
     "output_type": "stream",
     "text": [
      "3.6.5 (default, May  3 2018, 10:08:28) \n",
      "[GCC 5.4.0 20160609]\n",
      "/home/viktor/dev/recept-scanning/notebooks\n",
      "['',\n",
      " '/home/viktor/venvs/receipt/lib/python36.zip',\n",
      " '/home/viktor/venvs/receipt/lib/python3.6',\n",
      " '/home/viktor/venvs/receipt/lib/python3.6/lib-dynload',\n",
      " '/usr/lib/python3.6',\n",
      " '/home/viktor/venvs/receipt/lib/python3.6/site-packages',\n",
      " '/home/viktor/venvs/receipt/lib/python3.6/site-packages/IPython/extensions',\n",
      " '/home/viktor/.ipython',\n",
      " '/home/viktor/dev/recept-scanning']\n"
     ]
    }
   ],
   "source": [
    "import sys\n",
    "import os\n",
    "import json\n",
    "\n",
    "from pprint import pprint\n",
    "\n",
    "\n",
    "nb_dir = os.path.split(os.getcwd())[0]\n",
    "if nb_dir not in sys.path:\n",
    "    sys.path.append(nb_dir)\n",
    "\n",
    "    \n",
    "project_dir = os.path.join(os.getcwd(), '..')\n",
    "print(sys.version)\n",
    "print(os.getcwd())\n",
    "\n",
    "pprint(sys.path)\n"
   ]
  },
  {
   "cell_type": "code",
   "execution_count": 13,
   "metadata": {},
   "outputs": [],
   "source": [
    "import boto3\n",
    "\n",
    "boto_session = boto3.Session(profile_name='serverless-admin', region_name='eu-central-1')\n",
    "\n",
    "\n",
    "ddb = boto_session.client('dynamodb')"
   ]
  },
  {
   "cell_type": "code",
   "execution_count": 39,
   "metadata": {},
   "outputs": [
    {
     "data": {
      "text/plain": [
       "{'ResponseMetadata': {'RequestId': 'OLDEVUVVD17AH6S7N83E4QRT7NVV4KQNSO5AEMVJF66Q9ASUAAJG',\n",
       "  'HTTPStatusCode': 200,\n",
       "  'HTTPHeaders': {'server': 'Server',\n",
       "   'date': 'Thu, 13 Sep 2018 19:05:57 GMT',\n",
       "   'content-type': 'application/x-amz-json-1.0',\n",
       "   'content-length': '2',\n",
       "   'connection': 'keep-alive',\n",
       "   'x-amzn-requestid': 'OLDEVUVVD17AH6S7N83E4QRT7NVV4KQNSO5AEMVJF66Q9ASUAAJG',\n",
       "   'x-amz-crc32': '2745614147'},\n",
       "  'RetryAttempts': 0}}"
      ]
     },
     "execution_count": 39,
     "metadata": {},
     "output_type": "execute_result"
    }
   ],
   "source": [
    "c = ddb.put_item(\n",
    "    TableName='gcv_responses',\n",
    "    Item={\n",
    "        'image_hash': dict(S='rumpe'),\n",
    "        'gcv_response': dict(M=dict(textAnnotations=dict(L=[dict(S='anus')])))\n",
    "    }\n",
    ")\n",
    "\n",
    "c"
   ]
  },
  {
   "cell_type": "code",
   "execution_count": 43,
   "metadata": {},
   "outputs": [
    {
     "data": {
      "text/plain": [
       "dict_keys(['Items', 'Count', 'ScannedCount', 'ResponseMetadata'])"
      ]
     },
     "execution_count": 43,
     "metadata": {},
     "output_type": "execute_result"
    }
   ],
   "source": [
    "tables = ddb.list_tables()\n",
    "tables\n",
    "\n",
    "scan = ddb.scan(TableName=tables['TableNames'][0])\n",
    "\n",
    "scan.keys()"
   ]
  },
  {
   "cell_type": "code",
   "execution_count": 3,
   "metadata": {},
   "outputs": [],
   "source": [
    "from botocore.session import Session\n",
    "from pynamodb.connection.base import Connection\n",
    "from pynamodb.models import Model\n",
    "from pynamodb.attributes import UnicodeAttribute, MapAttribute, ListAttribute\n",
    "\n",
    "from recread import config\n",
    "\n",
    "\n",
    "class GcvResponseModel(Model):\n",
    "    class Meta:\n",
    "        table_name = 'gcv_responses'\n",
    "        region = config.AWS_REGION_DEFAULT\n",
    "\n",
    "    image_hash = UnicodeAttribute(hash_key=True)\n",
    "    gcv_response = MapAttribute(default=None)\n",
    "\n",
    "\n",
    "class ReceiptLinesModel(Model):\n",
    "    class Meta:\n",
    "        table_name = 'receipt_lines'\n",
    "        region = config.AWS_REGION_DEFAULT\n",
    "\n",
    "    image_hash = UnicodeAttribute(hash_key=True)\n",
    "    receipt_lines = ListAttribute(default=None)\n",
    "    receipt_lines_tokens = ListAttribute(default=None)\n",
    "\n",
    "\n",
    "def monkeypatch_connection(profile=config.AWS_PROFILE_DEFAULT):\n",
    "    @property\n",
    "    def session(self):\n",
    "        if getattr(self._local, 'session', None) is None:\n",
    "            self._local.session = Session(profile=profile)\n",
    "        return self._local.session\n",
    "\n",
    "    Connection.session = session\n",
    "\n",
    "\n",
    "\n",
    "monkeypatch_connection(profile='serverless-admin')\n",
    "\n",
    "with open(os.path.join(project_dir, 'data', 'receipt_responses', 'kvittering-keiser.jpg.json'), 'r') as json_file:\n",
    "    gcv_response = json.load(json_file)\n",
    "\n",
    "item = GcvResponseModel.get('4ff7dd961835b8c8b33db0810d26a8532d5e7809e1071bf2d301d86ad8f79809')\n",
    "\n",
    "\n",
    "item\n"
   ]
  },
  {
   "cell_type": "code",
   "execution_count": 8,
   "metadata": {},
   "outputs": [],
   "source": [
    "with open(os.path.join(project_dir, 'data', 'receipt_responses', 'kvittering-ikea.jpg.json'), 'w') as json_output_file:\n",
    "    json.dump(item.gcv_response.as_dict(), json_output_file)"
   ]
  },
  {
   "cell_type": "code",
   "execution_count": 5,
   "metadata": {},
   "outputs": [],
   "source": [
    "import boto3\n",
    "import pynamodb\n",
    "\n",
    "from recread.dynamodb.pynamo.models import GcvResponseModel, ReceiptLinesModel\n",
    "\n",
    "\n",
    "def save_gcv_response(gcv_response, image_hash):\n",
    "    db_object = GcvResponseModel(image_hash)\n",
    "    return db_object.update(actions=[\n",
    "        GcvResponseModel.gcv_response.set(gcv_response),\n",
    "    ])\n",
    "\n",
    "\n",
    "def save_receipt_lines(receipt_lines, receipt_lines_tokens, image_hash):\n",
    "    db_object = ReceiptLinesModel(image_hash)\n",
    "    return db_object.update(actions=[\n",
    "        ReceiptLinesModel.receipt_lines.set(receipt_lines),\n",
    "        ReceiptLinesModel.receipt_lines_tokens.set(receipt_lines_tokens),\n",
    "    ])\n"
   ]
  },
  {
   "cell_type": "code",
   "execution_count": 25,
   "metadata": {},
   "outputs": [
    {
     "ename": "TypeError",
     "evalue": "'NoneType' object is not iterable",
     "output_type": "error",
     "traceback": [
      "\u001b[0;31m---------------------------------------------------------------------------\u001b[0m",
      "\u001b[0;31mTypeError\u001b[0m                                 Traceback (most recent call last)",
      "\u001b[0;32m<ipython-input-25-1563089d03a5>\u001b[0m in \u001b[0;36m<module>\u001b[0;34m()\u001b[0m\n\u001b[1;32m      1\u001b[0m \u001b[0mReceiptLinesModel\u001b[0m\u001b[0;34m.\u001b[0m\u001b[0mcreate_table\u001b[0m\u001b[0;34m(\u001b[0m\u001b[0mwrite_capacity_units\u001b[0m\u001b[0;34m=\u001b[0m\u001b[0;36m5\u001b[0m\u001b[0;34m,\u001b[0m \u001b[0mread_capacity_units\u001b[0m\u001b[0;34m=\u001b[0m\u001b[0;36m5\u001b[0m\u001b[0;34m)\u001b[0m\u001b[0;34m\u001b[0m\u001b[0m\n\u001b[1;32m      2\u001b[0m \u001b[0;34m\u001b[0m\u001b[0m\n\u001b[0;32m----> 3\u001b[0;31m \u001b[0manus_item\u001b[0m \u001b[0;34m=\u001b[0m \u001b[0msave_receipt_lines\u001b[0m\u001b[0;34m(\u001b[0m\u001b[0mdict\u001b[0m\u001b[0;34m(\u001b[0m\u001b[0mrumpe\u001b[0m\u001b[0;34m=\u001b[0m\u001b[0;34m'tiss'\u001b[0m\u001b[0;34m)\u001b[0m\u001b[0;34m,\u001b[0m \u001b[0;34m[\u001b[0m\u001b[0;34m[\u001b[0m\u001b[0;34m'anus'\u001b[0m\u001b[0;34m,\u001b[0m \u001b[0;34m'promp'\u001b[0m\u001b[0;34m,\u001b[0m \u001b[0;34m'tiss'\u001b[0m\u001b[0;34m]\u001b[0m\u001b[0;34m]\u001b[0m\u001b[0;34m,\u001b[0m \u001b[0;34m'123abc'\u001b[0m\u001b[0;34m)\u001b[0m\u001b[0;34m\u001b[0m\u001b[0m\n\u001b[0m",
      "\u001b[0;32m<ipython-input-5-6bb8b1cafa01>\u001b[0m in \u001b[0;36msave_receipt_lines\u001b[0;34m(receipt_lines, receipt_lines_tokens, image_hash)\u001b[0m\n\u001b[1;32m     16\u001b[0m     return db_object.update(actions=[\n\u001b[1;32m     17\u001b[0m         \u001b[0mReceiptLinesModel\u001b[0m\u001b[0;34m.\u001b[0m\u001b[0mreceipt_lines\u001b[0m\u001b[0;34m.\u001b[0m\u001b[0mset\u001b[0m\u001b[0;34m(\u001b[0m\u001b[0mreceipt_lines\u001b[0m\u001b[0;34m)\u001b[0m\u001b[0;34m,\u001b[0m\u001b[0;34m\u001b[0m\u001b[0m\n\u001b[0;32m---> 18\u001b[0;31m         \u001b[0mReceiptLinesModel\u001b[0m\u001b[0;34m.\u001b[0m\u001b[0mreceipt_lines_tokens\u001b[0m\u001b[0;34m.\u001b[0m\u001b[0mset\u001b[0m\u001b[0;34m(\u001b[0m\u001b[0mreceipt_lines_tokens\u001b[0m\u001b[0;34m)\u001b[0m\u001b[0;34m,\u001b[0m\u001b[0;34m\u001b[0m\u001b[0m\n\u001b[0m\u001b[1;32m     19\u001b[0m     ])\n",
      "\u001b[0;32m~/venvs/receipt/lib/python3.6/site-packages/pynamodb/models.py\u001b[0m in \u001b[0;36mupdate\u001b[0;34m(self, attributes, actions, condition, conditional_operator, **expected_values)\u001b[0m\n\u001b[1;32m    442\u001b[0m             \u001b[0mattr\u001b[0m \u001b[0;34m=\u001b[0m \u001b[0mself\u001b[0m\u001b[0;34m.\u001b[0m\u001b[0mget_attributes\u001b[0m\u001b[0;34m(\u001b[0m\u001b[0;34m)\u001b[0m\u001b[0;34m.\u001b[0m\u001b[0mget\u001b[0m\u001b[0;34m(\u001b[0m\u001b[0mattr_name\u001b[0m\u001b[0;34m)\u001b[0m\u001b[0;34m\u001b[0m\u001b[0m\n\u001b[1;32m    443\u001b[0m             \u001b[0;32mif\u001b[0m \u001b[0mattr\u001b[0m\u001b[0;34m:\u001b[0m\u001b[0;34m\u001b[0m\u001b[0m\n\u001b[0;32m--> 444\u001b[0;31m                 \u001b[0msetattr\u001b[0m\u001b[0;34m(\u001b[0m\u001b[0mself\u001b[0m\u001b[0;34m,\u001b[0m \u001b[0mattr_name\u001b[0m\u001b[0;34m,\u001b[0m \u001b[0mattr\u001b[0m\u001b[0;34m.\u001b[0m\u001b[0mdeserialize\u001b[0m\u001b[0;34m(\u001b[0m\u001b[0mattr\u001b[0m\u001b[0;34m.\u001b[0m\u001b[0mget_value\u001b[0m\u001b[0;34m(\u001b[0m\u001b[0mvalue\u001b[0m\u001b[0;34m)\u001b[0m\u001b[0;34m)\u001b[0m\u001b[0;34m)\u001b[0m\u001b[0;34m\u001b[0m\u001b[0m\n\u001b[0m\u001b[1;32m    445\u001b[0m         \u001b[0;32mreturn\u001b[0m \u001b[0mdata\u001b[0m\u001b[0;34m\u001b[0m\u001b[0m\n\u001b[1;32m    446\u001b[0m \u001b[0;34m\u001b[0m\u001b[0m\n",
      "\u001b[0;32m~/venvs/receipt/lib/python3.6/site-packages/pynamodb/attributes.py\u001b[0m in \u001b[0;36mdeserialize\u001b[0;34m(self, values)\u001b[0m\n\u001b[1;32m    918\u001b[0m         \"\"\"\n\u001b[1;32m    919\u001b[0m         \u001b[0mdeserialized_lst\u001b[0m \u001b[0;34m=\u001b[0m \u001b[0;34m[\u001b[0m\u001b[0;34m]\u001b[0m\u001b[0;34m\u001b[0m\u001b[0m\n\u001b[0;32m--> 920\u001b[0;31m         \u001b[0;32mfor\u001b[0m \u001b[0mv\u001b[0m \u001b[0;32min\u001b[0m \u001b[0mvalues\u001b[0m\u001b[0;34m:\u001b[0m\u001b[0;34m\u001b[0m\u001b[0m\n\u001b[0m\u001b[1;32m    921\u001b[0m             \u001b[0mclass_for_deserialize\u001b[0m \u001b[0;34m=\u001b[0m \u001b[0mself\u001b[0m\u001b[0;34m.\u001b[0m\u001b[0melement_type\u001b[0m\u001b[0;34m(\u001b[0m\u001b[0;34m)\u001b[0m \u001b[0;32mif\u001b[0m \u001b[0mself\u001b[0m\u001b[0;34m.\u001b[0m\u001b[0melement_type\u001b[0m \u001b[0;32melse\u001b[0m \u001b[0m_get_class_for_deserialize\u001b[0m\u001b[0;34m(\u001b[0m\u001b[0mv\u001b[0m\u001b[0;34m)\u001b[0m\u001b[0;34m\u001b[0m\u001b[0m\n\u001b[1;32m    922\u001b[0m             \u001b[0mattr_value\u001b[0m \u001b[0;34m=\u001b[0m \u001b[0m_get_value_for_deserialize\u001b[0m\u001b[0;34m(\u001b[0m\u001b[0mv\u001b[0m\u001b[0;34m)\u001b[0m\u001b[0;34m\u001b[0m\u001b[0m\n",
      "\u001b[0;31mTypeError\u001b[0m: 'NoneType' object is not iterable"
     ]
    }
   ],
   "source": [
    "ReceiptLinesModel.create_table(write_capacity_units=5, read_capacity_units=5)\n",
    "\n",
    "anus_item = save_receipt_lines(dict(rumpe='tiss'), [['anus', 'promp', 'tiss']], '123abc')"
   ]
  },
  {
   "cell_type": "code",
   "execution_count": 11,
   "metadata": {},
   "outputs": [
    {
     "data": {
      "text/plain": [
       "{'attribute_values': {'gcv_response': <pynamodb.attributes.MapAttribute at 0x7f1a5de72e10>,\n",
       "  'image_hash': '123abc'}}"
      ]
     },
     "execution_count": 11,
     "metadata": {},
     "output_type": "execute_result"
    }
   ],
   "source": [
    "penis_item = GcvResponseModel.get('123abc')\n",
    "penis_item.__dict__"
   ]
  },
  {
   "cell_type": "code",
   "execution_count": 20,
   "metadata": {},
   "outputs": [
    {
     "data": {
      "text/plain": [
       "'123abc'"
      ]
     },
     "execution_count": 20,
     "metadata": {},
     "output_type": "execute_result"
    }
   ],
   "source": [
    "penis_item.image_hash"
   ]
  },
  {
   "cell_type": "code",
   "execution_count": 91,
   "metadata": {},
   "outputs": [
    {
     "data": {
      "text/plain": [
       "str"
      ]
     },
     "execution_count": 91,
     "metadata": {},
     "output_type": "execute_result"
    }
   ],
   "source": [
    "import hashlib\n",
    "\n",
    "m = hashlib.blake2s()\n",
    "m.update(b'')\n",
    "type(m.hexdigest())"
   ]
  },
  {
   "cell_type": "code",
   "execution_count": 164,
   "metadata": {},
   "outputs": [
    {
     "data": {
      "text/plain": [
       "{'name': 'man', 'color': 'yellow', 'parents': ['Dick']}"
      ]
     },
     "execution_count": 164,
     "metadata": {},
     "output_type": "execute_result"
    }
   ],
   "source": [
    "class Dog(object):\n",
    "    def __init__(self, name='dog', color='black', parents=[], *args, **kwargs):\n",
    "        self.name = name\n",
    "        self.color = color\n",
    "        self.parents = parents\n",
    "        \n",
    "    def __str__(self):\n",
    "        return self.name\n",
    "    \n",
    "    def __repr__(self):\n",
    "        return self.name\n",
    "    \n",
    "    def __iter__(self):\n",
    "        for key, value in self.__dict__.items():\n",
    "            yield key, value\n",
    "    \n",
    "    \n",
    "        \n",
    "\n",
    "dogman = Dog('man', 'yellow', ['Dick'])\n",
    "\n",
    "dict(dogman)"
   ]
  },
  {
   "cell_type": "code",
   "execution_count": 26,
   "metadata": {},
   "outputs": [
    {
     "data": {
      "text/plain": [
       "{'LC_PAPER': 'nb_NO.UTF-8',\n",
       " 'XDG_VTNR': '7',\n",
       " '__GIT_PROMPT_IGNORE_STASH': '',\n",
       " 'LC_ADDRESS': 'nb_NO.UTF-8',\n",
       " 'SSH_AGENT_PID': '1808',\n",
       " 'XDG_SESSION_ID': 'c2',\n",
       " 'LC_MONETARY': 'nb_NO.UTF-8',\n",
       " 'XDG_GREETER_DATA_DIR': '/var/lib/lightdm-data/viktor',\n",
       " 'QT_STYLE_OVERRIDE': 'gtk',\n",
       " 'NVM_CD_FLAGS': '',\n",
       " 'GPG_AGENT_INFO': '/home/viktor/.gnupg/S.gpg-agent:0:1',\n",
       " 'TERM': 'xterm-256color',\n",
       " 'SHELL': '/bin/bash',\n",
       " 'VTE_VERSION': '4205',\n",
       " 'QT_LINUX_ACCESSIBILITY_ALWAYS_ON': '1',\n",
       " 'WINDOWID': '113246214',\n",
       " 'LC_NUMERIC': 'nb_NO.UTF-8',\n",
       " 'GTK_MODULES': 'gail:atk-bridge',\n",
       " '__GIT_PROMPT_SHOW_UPSTREAM': '',\n",
       " '__GIT_PROMPT_SHOW_UNTRACKED_FILES': 'all',\n",
       " 'NVM_DIR': '/home/viktor/.nvm',\n",
       " 'USER': 'viktor',\n",
       " 'LS_COLORS': 'rs=0:di=01;34:ln=01;36:mh=00:pi=40;33:so=01;35:do=01;35:bd=40;33;01:cd=40;33;01:or=40;31;01:mi=00:su=37;41:sg=30;43:ca=30;41:tw=30;42:ow=34;42:st=37;44:ex=01;32:*.tar=01;31:*.tgz=01;31:*.arc=01;31:*.arj=01;31:*.taz=01;31:*.lha=01;31:*.lz4=01;31:*.lzh=01;31:*.lzma=01;31:*.tlz=01;31:*.txz=01;31:*.tzo=01;31:*.t7z=01;31:*.zip=01;31:*.z=01;31:*.Z=01;31:*.dz=01;31:*.gz=01;31:*.lrz=01;31:*.lz=01;31:*.lzo=01;31:*.xz=01;31:*.bz2=01;31:*.bz=01;31:*.tbz=01;31:*.tbz2=01;31:*.tz=01;31:*.deb=01;31:*.rpm=01;31:*.jar=01;31:*.war=01;31:*.ear=01;31:*.sar=01;31:*.rar=01;31:*.alz=01;31:*.ace=01;31:*.zoo=01;31:*.cpio=01;31:*.7z=01;31:*.rz=01;31:*.cab=01;31:*.jpg=01;35:*.jpeg=01;35:*.gif=01;35:*.bmp=01;35:*.pbm=01;35:*.pgm=01;35:*.ppm=01;35:*.tga=01;35:*.xbm=01;35:*.xpm=01;35:*.tif=01;35:*.tiff=01;35:*.png=01;35:*.svg=01;35:*.svgz=01;35:*.mng=01;35:*.pcx=01;35:*.mov=01;35:*.mpg=01;35:*.mpeg=01;35:*.m2v=01;35:*.mkv=01;35:*.webm=01;35:*.ogm=01;35:*.mp4=01;35:*.m4v=01;35:*.mp4v=01;35:*.vob=01;35:*.qt=01;35:*.nuv=01;35:*.wmv=01;35:*.asf=01;35:*.rm=01;35:*.rmvb=01;35:*.flc=01;35:*.avi=01;35:*.fli=01;35:*.flv=01;35:*.gl=01;35:*.dl=01;35:*.xcf=01;35:*.xwd=01;35:*.yuv=01;35:*.cgm=01;35:*.emf=01;35:*.ogv=01;35:*.ogx=01;35:*.aac=00;36:*.au=00;36:*.flac=00;36:*.m4a=00;36:*.mid=00;36:*.midi=00;36:*.mka=00;36:*.mp3=00;36:*.mpc=00;36:*.ogg=00;36:*.ra=00;36:*.wav=00;36:*.oga=00;36:*.opus=00;36:*.spx=00;36:*.xspf=00;36:',\n",
       " 'QT_ACCESSIBILITY': '1',\n",
       " 'DESKTOP_AUTOSTART_ID': '10ecf6ac954a813bd8153700565760719600000016020026',\n",
       " 'LC_TELEPHONE': 'nb_NO.UTF-8',\n",
       " 'XDG_SESSION_PATH': '/org/freedesktop/DisplayManager/Session0',\n",
       " 'XDG_SEAT_PATH': '/org/freedesktop/DisplayManager/Seat0',\n",
       " 'SSH_AUTH_SOCK': '/run/user/1000/keyring/ssh',\n",
       " 'SESSION_MANAGER': 'local/viktor-ThinkPad-T460s:@/tmp/.ICE-unix/1602,unix/viktor-ThinkPad-T460s:/tmp/.ICE-unix/1602',\n",
       " 'DEFAULTS_PATH': '/usr/share/gconf/cinnamon.default.path',\n",
       " 'VIRTUAL_ENV': '/home/viktor/venvs/receipt',\n",
       " 'XDG_CONFIG_DIRS': '/etc/xdg/xdg-cinnamon:/etc/xdg',\n",
       " 'PATH': '/home/viktor/venvs/receipt/bin:/home/viktor/venvs/receipt/bin:/home/viktor/.nvm/versions/node/v10.7.0/bin:/home/viktor/bin:/home/viktor/.local/bin:/usr/local/sbin:/usr/local/bin:/usr/sbin:/usr/bin:/sbin:/bin:/usr/games:/usr/local/games:/snap/bin:/usr/local/go/bin:/home/viktor/go/bin:/snap/hugo/current/bin:/home/viktor/.local/bin',\n",
       " 'DESKTOP_SESSION': 'cinnamon',\n",
       " 'QT_QPA_PLATFORMTHEME': 'qgnomeplatform',\n",
       " 'LC_IDENTIFICATION': 'nb_NO.UTF-8',\n",
       " 'XDG_SESSION_TYPE': 'x11',\n",
       " 'PWD': '/home/viktor/dev/recept-scanning',\n",
       " 'LANG': 'en_US.UTF-8',\n",
       " 'GDM_LANG': 'en_US',\n",
       " 'MANDATORY_PATH': '/usr/share/gconf/cinnamon.mandatory.path',\n",
       " 'LC_MEASUREMENT': 'nb_NO.UTF-8',\n",
       " 'PS1': '(\\\\[\\\\033[0;34m\\\\]receipt\\\\[\\\\033[0;0m\\\\]) \\\\[\\\\033[0;32m\\\\]✔ \\\\[\\\\033[0;0m\\\\] \\\\[\\\\033[0;33m\\\\]\\\\w\\\\[\\\\033[0;0m\\\\] [\\\\[\\\\033[0;35m\\\\]${GIT_BRANCH}\\\\[\\\\033[0;0m\\\\]|\\\\[\\\\033[0;34m\\\\]✚ 2\\\\[\\\\033[0;0m\\\\]\\\\[\\\\033[0;36m\\\\]…21\\\\[\\\\033[0;0m\\\\]\\\\[\\\\033[0;0m\\\\]] \\\\n\\\\[\\\\033[1;34m\\\\]$(date +%H:%M)\\\\[\\\\033[0;0m\\\\] $ ',\n",
       " 'GDMSESSION': 'cinnamon',\n",
       " 'XDG_SEAT': 'seat0',\n",
       " 'HOME': '/home/viktor',\n",
       " 'SHLVL': '1',\n",
       " 'LANGUAGE': 'en_US',\n",
       " 'GIT_BRANCH': 'master',\n",
       " '__GIT_PROMPT_SHOW_CHANGED_FILES_COUNT': '1',\n",
       " 'GNOME_DESKTOP_SESSION_ID': 'this-is-deprecated',\n",
       " 'GTK_OVERLAY_SCROLLING': '1',\n",
       " '__GIT_PROMPT_IGNORE_SUBMODULES': '',\n",
       " 'XDG_SESSION_DESKTOP': 'cinnamon',\n",
       " 'LOGNAME': 'viktor',\n",
       " 'XDG_DATA_DIRS': '/usr/share/cinnamon:/usr/share/gnome:/home/viktor/.local/share/flatpak/exports/share:/var/lib/flatpak/exports/share:/usr/local/share:/usr/share:/var/lib/snapd/desktop',\n",
       " 'DBUS_SESSION_BUS_ADDRESS': 'unix:abstract=/tmp/dbus-FG1pQQFcvB,guid=fa7c26a4f72ba1bd819f29345b9cd859',\n",
       " 'NVM_BIN': '/home/viktor/.nvm/versions/node/v10.7.0/bin',\n",
       " 'LESSOPEN': '| /usr/bin/lesspipe %s',\n",
       " 'XDG_RUNTIME_DIR': '/run/user/1000',\n",
       " 'DISPLAY': ':0',\n",
       " 'XDG_CURRENT_DESKTOP': 'X-Cinnamon',\n",
       " 'LESSCLOSE': '/usr/bin/lesspipe %s %s',\n",
       " 'XAUTHORITY': '/home/viktor/.Xauthority',\n",
       " 'LC_NAME': 'nb_NO.UTF-8',\n",
       " '_': '/home/viktor/.nvm/versions/node/v10.7.0/bin/sls',\n",
       " 'IS_LOCAL': 'true',\n",
       " 'LD_LIBRARY_PATH': '/usr/local/lib64/node-v4.3.x/lib:/lib64:/usr/lib64:/var/runtime:/var/runtime/lib:/var/task:/var/task/lib',\n",
       " 'LAMBDA_TASK_ROOT': '/var/task',\n",
       " 'LAMBDA_RUNTIME_DIR': '/var/runtime',\n",
       " 'AWS_REGION': 'us-east-1',\n",
       " 'AWS_DEFAULT_REGION': 'us-east-1',\n",
       " 'AWS_LAMBDA_LOG_GROUP_NAME': '/aws/lambda/serverless-receipt-scanning-dev-hello',\n",
       " 'AWS_LAMBDA_LOG_STREAM_NAME': '2016/12/02/[$LATEST]f77ff5e4026c45bda9a9ebcec6bc9cad',\n",
       " 'AWS_LAMBDA_FUNCTION_NAME': 'serverless-receipt-scanning-dev-hello',\n",
       " 'AWS_LAMBDA_FUNCTION_MEMORY_SIZE': '1024',\n",
       " 'AWS_LAMBDA_FUNCTION_VERSION': '$LATEST',\n",
       " 'NODE_PATH': '/var/runtime:/var/task:/var/runtime/node_modules'}"
      ]
     },
     "execution_count": 26,
     "metadata": {},
     "output_type": "execute_result"
    }
   ],
   "source": [
    "env = {'LC_PAPER': 'nb_NO.UTF-8', 'XDG_VTNR': '7', '__GIT_PROMPT_IGNORE_STASH': '', 'LC_ADDRESS': 'nb_NO.UTF-8', 'SSH_AGENT_PID': '1808', 'XDG_SESSION_ID': 'c2', 'LC_MONETARY': 'nb_NO.UTF-8', 'XDG_GREETER_DATA_DIR': '/var/lib/lightdm-data/viktor', 'QT_STYLE_OVERRIDE': 'gtk', 'NVM_CD_FLAGS': '', 'GPG_AGENT_INFO': '/home/viktor/.gnupg/S.gpg-agent:0:1', 'TERM': 'xterm-256color', 'SHELL': '/bin/bash', 'VTE_VERSION': '4205', 'QT_LINUX_ACCESSIBILITY_ALWAYS_ON': '1', 'WINDOWID': '113246214', 'LC_NUMERIC': 'nb_NO.UTF-8', 'GTK_MODULES': 'gail:atk-bridge', '__GIT_PROMPT_SHOW_UPSTREAM': '', '__GIT_PROMPT_SHOW_UNTRACKED_FILES': 'all', 'NVM_DIR': '/home/viktor/.nvm', 'USER': 'viktor', 'LS_COLORS': 'rs=0:di=01;34:ln=01;36:mh=00:pi=40;33:so=01;35:do=01;35:bd=40;33;01:cd=40;33;01:or=40;31;01:mi=00:su=37;41:sg=30;43:ca=30;41:tw=30;42:ow=34;42:st=37;44:ex=01;32:*.tar=01;31:*.tgz=01;31:*.arc=01;31:*.arj=01;31:*.taz=01;31:*.lha=01;31:*.lz4=01;31:*.lzh=01;31:*.lzma=01;31:*.tlz=01;31:*.txz=01;31:*.tzo=01;31:*.t7z=01;31:*.zip=01;31:*.z=01;31:*.Z=01;31:*.dz=01;31:*.gz=01;31:*.lrz=01;31:*.lz=01;31:*.lzo=01;31:*.xz=01;31:*.bz2=01;31:*.bz=01;31:*.tbz=01;31:*.tbz2=01;31:*.tz=01;31:*.deb=01;31:*.rpm=01;31:*.jar=01;31:*.war=01;31:*.ear=01;31:*.sar=01;31:*.rar=01;31:*.alz=01;31:*.ace=01;31:*.zoo=01;31:*.cpio=01;31:*.7z=01;31:*.rz=01;31:*.cab=01;31:*.jpg=01;35:*.jpeg=01;35:*.gif=01;35:*.bmp=01;35:*.pbm=01;35:*.pgm=01;35:*.ppm=01;35:*.tga=01;35:*.xbm=01;35:*.xpm=01;35:*.tif=01;35:*.tiff=01;35:*.png=01;35:*.svg=01;35:*.svgz=01;35:*.mng=01;35:*.pcx=01;35:*.mov=01;35:*.mpg=01;35:*.mpeg=01;35:*.m2v=01;35:*.mkv=01;35:*.webm=01;35:*.ogm=01;35:*.mp4=01;35:*.m4v=01;35:*.mp4v=01;35:*.vob=01;35:*.qt=01;35:*.nuv=01;35:*.wmv=01;35:*.asf=01;35:*.rm=01;35:*.rmvb=01;35:*.flc=01;35:*.avi=01;35:*.fli=01;35:*.flv=01;35:*.gl=01;35:*.dl=01;35:*.xcf=01;35:*.xwd=01;35:*.yuv=01;35:*.cgm=01;35:*.emf=01;35:*.ogv=01;35:*.ogx=01;35:*.aac=00;36:*.au=00;36:*.flac=00;36:*.m4a=00;36:*.mid=00;36:*.midi=00;36:*.mka=00;36:*.mp3=00;36:*.mpc=00;36:*.ogg=00;36:*.ra=00;36:*.wav=00;36:*.oga=00;36:*.opus=00;36:*.spx=00;36:*.xspf=00;36:', 'QT_ACCESSIBILITY': '1', 'DESKTOP_AUTOSTART_ID': '10ecf6ac954a813bd8153700565760719600000016020026', 'LC_TELEPHONE': 'nb_NO.UTF-8', 'XDG_SESSION_PATH': '/org/freedesktop/DisplayManager/Session0', 'XDG_SEAT_PATH': '/org/freedesktop/DisplayManager/Seat0', 'SSH_AUTH_SOCK': '/run/user/1000/keyring/ssh', 'SESSION_MANAGER': 'local/viktor-ThinkPad-T460s:@/tmp/.ICE-unix/1602,unix/viktor-ThinkPad-T460s:/tmp/.ICE-unix/1602', 'DEFAULTS_PATH': '/usr/share/gconf/cinnamon.default.path', 'VIRTUAL_ENV': '/home/viktor/venvs/receipt', 'XDG_CONFIG_DIRS': '/etc/xdg/xdg-cinnamon:/etc/xdg', 'PATH': '/home/viktor/venvs/receipt/bin:/home/viktor/venvs/receipt/bin:/home/viktor/.nvm/versions/node/v10.7.0/bin:/home/viktor/bin:/home/viktor/.local/bin:/usr/local/sbin:/usr/local/bin:/usr/sbin:/usr/bin:/sbin:/bin:/usr/games:/usr/local/games:/snap/bin:/usr/local/go/bin:/home/viktor/go/bin:/snap/hugo/current/bin:/home/viktor/.local/bin', 'DESKTOP_SESSION': 'cinnamon', 'QT_QPA_PLATFORMTHEME': 'qgnomeplatform', 'LC_IDENTIFICATION': 'nb_NO.UTF-8', 'XDG_SESSION_TYPE': 'x11', 'PWD': '/home/viktor/dev/recept-scanning', 'LANG': 'en_US.UTF-8', 'GDM_LANG': 'en_US', 'MANDATORY_PATH': '/usr/share/gconf/cinnamon.mandatory.path', 'LC_MEASUREMENT': 'nb_NO.UTF-8', 'PS1': '(\\\\[\\\\033[0;34m\\\\]receipt\\\\[\\\\033[0;0m\\\\]) \\\\[\\\\033[0;32m\\\\]✔ \\\\[\\\\033[0;0m\\\\] \\\\[\\\\033[0;33m\\\\]\\\\w\\\\[\\\\033[0;0m\\\\] [\\\\[\\\\033[0;35m\\\\]${GIT_BRANCH}\\\\[\\\\033[0;0m\\\\]|\\\\[\\\\033[0;34m\\\\]✚ 2\\\\[\\\\033[0;0m\\\\]\\\\[\\\\033[0;36m\\\\]…21\\\\[\\\\033[0;0m\\\\]\\\\[\\\\033[0;0m\\\\]] \\\\n\\\\[\\\\033[1;34m\\\\]$(date +%H:%M)\\\\[\\\\033[0;0m\\\\] $ ', 'GDMSESSION': 'cinnamon', 'XDG_SEAT': 'seat0', 'HOME': '/home/viktor', 'SHLVL': '1', 'LANGUAGE': 'en_US', 'GIT_BRANCH': 'master', '__GIT_PROMPT_SHOW_CHANGED_FILES_COUNT': '1', 'GNOME_DESKTOP_SESSION_ID': 'this-is-deprecated', 'GTK_OVERLAY_SCROLLING': '1', '__GIT_PROMPT_IGNORE_SUBMODULES': '', 'XDG_SESSION_DESKTOP': 'cinnamon', 'LOGNAME': 'viktor', 'XDG_DATA_DIRS': '/usr/share/cinnamon:/usr/share/gnome:/home/viktor/.local/share/flatpak/exports/share:/var/lib/flatpak/exports/share:/usr/local/share:/usr/share:/var/lib/snapd/desktop', 'DBUS_SESSION_BUS_ADDRESS': 'unix:abstract=/tmp/dbus-FG1pQQFcvB,guid=fa7c26a4f72ba1bd819f29345b9cd859', 'NVM_BIN': '/home/viktor/.nvm/versions/node/v10.7.0/bin', 'LESSOPEN': '| /usr/bin/lesspipe %s', 'XDG_RUNTIME_DIR': '/run/user/1000', 'DISPLAY': ':0', 'XDG_CURRENT_DESKTOP': 'X-Cinnamon', 'LESSCLOSE': '/usr/bin/lesspipe %s %s', 'XAUTHORITY': '/home/viktor/.Xauthority', 'LC_NAME': 'nb_NO.UTF-8', '_': '/home/viktor/.nvm/versions/node/v10.7.0/bin/sls', 'IS_LOCAL': 'true', 'LD_LIBRARY_PATH': '/usr/local/lib64/node-v4.3.x/lib:/lib64:/usr/lib64:/var/runtime:/var/runtime/lib:/var/task:/var/task/lib', 'LAMBDA_TASK_ROOT': '/var/task', 'LAMBDA_RUNTIME_DIR': '/var/runtime', 'AWS_REGION': 'us-east-1', 'AWS_DEFAULT_REGION': 'us-east-1', 'AWS_LAMBDA_LOG_GROUP_NAME': '/aws/lambda/serverless-receipt-scanning-dev-hello', 'AWS_LAMBDA_LOG_STREAM_NAME': '2016/12/02/[$LATEST]f77ff5e4026c45bda9a9ebcec6bc9cad', 'AWS_LAMBDA_FUNCTION_NAME': 'serverless-receipt-scanning-dev-hello', 'AWS_LAMBDA_FUNCTION_MEMORY_SIZE': '1024', 'AWS_LAMBDA_FUNCTION_VERSION': '$LATEST', 'NODE_PATH': '/var/runtime:/var/task:/var/runtime/node_modules'}\n",
    "env"
   ]
  }
 ],
 "metadata": {
  "kernelspec": {
   "display_name": "receipt_python3",
   "language": "python",
   "name": "receipt_python3"
  },
  "language_info": {
   "codemirror_mode": {
    "name": "ipython",
    "version": 3
   },
   "file_extension": ".py",
   "mimetype": "text/x-python",
   "name": "python",
   "nbconvert_exporter": "python",
   "pygments_lexer": "ipython3",
   "version": "3.6.5"
  }
 },
 "nbformat": 4,
 "nbformat_minor": 2
}
